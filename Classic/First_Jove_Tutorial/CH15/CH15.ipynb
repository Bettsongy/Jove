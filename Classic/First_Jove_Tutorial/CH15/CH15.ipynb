{
 "cells": [
  {
   "cell_type": "code",
   "execution_count": null,
   "metadata": {
    "run_control": {
     "frozen": false,
     "read_only": false
    }
   },
   "outputs": [],
   "source": [
    "#~~~~~~~~~~~~~~~~~~~~~~~~~~~~~~~~~~~~~~~~~~~~~~~~~~~~~~~\n",
    "import sys\n",
    "\n",
    "#---- Leave these definitions ON if running on laptop\n",
    "#---- Else turn OFF by putting them between ''' ... '''\n",
    "\n",
    "sys.path[0:0] = ['../../../../..',  '../../../../../3rdparty',  \n",
    "                 '../../../..',  '../../../../3rdparty',  \n",
    "                 '../../..',     '../../../3rdparty', \n",
    "                 '../..',        '../../3rdparty',\n",
    "\t\t '..',           '../3rdparty' ]\n",
    "\n",
    "#---- COMMON IMPORTS BELOW : Add more/less imports as needed/tolerable ---\n",
    "from PcpJupyter import *\n",
    " \n",
    "#---- Turn these definitions ON if running on COLAB by removing ''' ... '''\n",
    "#---- Else leave them OFF\n",
    "\n",
    "'''\n",
    "! if [ ! -d Jove ]; then git clone https://github.com/ganeshutah/Jove Jove; fi\n",
    "import sys\n",
    "sys.path.append('./Jove')\n",
    "sys.path.append('./Jove/jove')\n",
    "\n",
    "#---- COMMON IMPORTS BELOW : Add more/less imports as needed/tolerable ---\n",
    "from PcpJupyter import *\n",
    " \n",
    "#display(HTML('<link rel=\"stylesheet\" href=\"//stackpath.bootstrapcdn.com/font-awesome/4.7.0/css/font-awesome.min.css\"/>'))\n",
    "'''\n",
    "\n",
    "#~~~~~~~~~~~~~~~~~~~~~~~~~~~~~~~~~~~~~~~~~~~~~~~~~~~~~~~\n",
    "\n",
    "\n",
    "\n",
    " \n"
   ]
  },
  {
   "cell_type": "markdown",
   "metadata": {
    "run_control": {
     "frozen": false,
     "read_only": false
    }
   },
   "source": [
    "# PCP Jupyter Interface"
   ]
  },
  {
   "cell_type": "markdown",
   "metadata": {
    "run_control": {
     "frozen": false,
     "read_only": false
    }
   },
   "source": [
    "Bringing Ling Zhao's PCP Solver to jupyter notebooks!\n",
    "\n",
    "Arguments will be exactly as they were for the command line version for the basic pcp_solve:\n",
    "\n",
    "run     - number of runs\n",
    "\n",
    "ni      - no iterative search\n",
    "\n",
    "di      - depth increment\n",
    "\n",
    "depth   - search depth"
   ]
  },
  {
   "cell_type": "code",
   "execution_count": null,
   "metadata": {
    "run_control": {
     "frozen": false,
     "read_only": false
    },
    "scrolled": false
   },
   "outputs": [],
   "source": [
    "help(pcp_solve)"
   ]
  },
  {
   "cell_type": "markdown",
   "metadata": {
    "run_control": {
     "frozen": false,
     "read_only": false
    }
   },
   "source": [
    "### Examples:"
   ]
  },
  {
   "cell_type": "code",
   "execution_count": null,
   "metadata": {
    "run_control": {
     "frozen": false,
     "read_only": false
    },
    "scrolled": true
   },
   "outputs": [],
   "source": [
    "pcp_solve([('110', '1'), ('1', '0'), ('0', '110')])"
   ]
  },
  {
   "cell_type": "code",
   "execution_count": null,
   "metadata": {
    "run_control": {
     "frozen": false,
     "read_only": false
    }
   },
   "outputs": [],
   "source": [
    "pcp_solve([('1101', '010'), ('01', '1'), ('1', '101')])"
   ]
  }
 ],
 "metadata": {
  "kernelspec": {
   "display_name": "Python 3",
   "language": "python",
   "name": "python3"
  },
  "language_info": {
   "codemirror_mode": {
    "name": "ipython",
    "version": 3
   },
   "file_extension": ".py",
   "mimetype": "text/x-python",
   "name": "python",
   "nbconvert_exporter": "python",
   "pygments_lexer": "ipython3",
   "version": "3.7.3"
  },
  "toc": {
   "colors": {
    "hover_highlight": "#DAA520",
    "running_highlight": "#FF0000",
    "selected_highlight": "#FFD700"
   },
   "moveMenuLeft": true,
   "nav_menu": {
    "height": "48px",
    "width": "252px"
   },
   "navigate_menu": true,
   "number_sections": true,
   "sideBar": true,
   "threshold": 4,
   "toc_cell": false,
   "toc_section_display": "block",
   "toc_window_display": false,
   "widenNotebook": false
  }
 },
 "nbformat": 4,
 "nbformat_minor": 2
}
