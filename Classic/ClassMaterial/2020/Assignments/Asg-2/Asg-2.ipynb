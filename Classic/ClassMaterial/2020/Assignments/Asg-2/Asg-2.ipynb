{
 "cells": [
  {
   "cell_type": "markdown",
   "metadata": {
    "colab_type": "text",
    "id": "Sg7maR11hwFS",
    "run_control": {
     "frozen": false,
     "read_only": false
    }
   },
   "source": [
    "# A DFA Overview Video\n",
    "\n",
    "If you'd like to relive my first lecture on DFA, be my guest; play the Youtube video below!\n",
    "My own advice: listen a little and then stop the video and start playing with the code below!"
   ]
  },
  {
   "cell_type": "code",
   "execution_count": 1,
   "metadata": {
    "colab": {},
    "colab_type": "code",
    "id": "ZbudUFY3hwFY",
    "run_control": {
     "frozen": false,
     "read_only": false
    }
   },
   "outputs": [
    {
     "data": {
      "image/jpeg": "[encoded data removed]",
      "text/html": [
       "\n",
       "        <iframe\n",
       "            width=\"400\"\n",
       "            height=\"300\"\n",
       "            src=\"https://www.youtube.com/embed/FItN6CK1mow\"\n",
       "            frameborder=\"0\"\n",
       "            allowfullscreen\n",
       "        ></iframe>\n",
       "        "
      ],
      "text/plain": [
       "<IPython.lib.display.YouTubeVideo at 0x109e96e10>"
      ]
     },
     "execution_count": 1,
     "metadata": {},
     "output_type": "execute_result"
    }
   ],
   "source": [
    "# This Youtube video walks through a basic DFA lecture\n",
    "from IPython.display import YouTubeVideo\n",
    "YouTubeVideo('FItN6CK1mow')"
   ]
  },
  {
   "cell_type": "markdown",
   "metadata": {
    "colab_type": "text",
    "id": "emNZ7YXKhwFe",
    "run_control": {
     "frozen": false,
     "read_only": false
    }
   },
   "source": [
    "# Simple DFA Exercises"
   ]
  },
  {
   "cell_type": "code",
   "execution_count": 2,
   "metadata": {
    "colab": {},
    "colab_type": "code",
    "id": "2VL7QYP-hwFf",
    "run_control": {
     "frozen": false,
     "read_only": false
    }
   },
   "outputs": [
    {
     "name": "stdout",
     "output_type": "stream",
     "text": [
      "You may use any of these help commands:\n",
      "help(ResetStNum)\n",
      "help(NxtStateStr)\n",
      "\n",
      "You may use any of these help commands:\n",
      "help(md2mc)\n",
      ".. and if you want to dig more, then ..\n",
      "help(default_line_attr)\n",
      "help(length_ok_input_items)\n",
      "help(union_line_attr_list_fld)\n",
      "help(extend_rsltdict)\n",
      "help(form_delta)\n",
      "help(get_machine_components)\n",
      "\n",
      "You may use any of these help commands:\n",
      "help(mkp_dfa)\n",
      "help(mk_dfa)\n",
      "help(totalize_dfa)\n",
      "help(addtosigma_delta)\n",
      "help(step_dfa)\n",
      "help(run_dfa)\n",
      "help(accepts_dfa)\n",
      "help(comp_dfa)\n",
      "help(union_dfa)\n",
      "help(intersect_dfa)\n",
      "help(pruneUnreach)\n",
      "help(iso_dfa)\n",
      "help(langeq_dfa)\n",
      "help(same_status)\n",
      "help(h_langeq_dfa)\n",
      "help(fixptDist)\n",
      "help(min_dfa)\n",
      "help(pairFR)\n",
      "help(state_combos)\n",
      "help(sepFinNonFin)\n",
      "help(bash_eql_classes)\n",
      "help(listminus)\n",
      "help(bash_1)\n",
      "help(mk_rep_eqc)\n",
      "help(F_of)\n",
      "help(rep_of_s)\n",
      "help(q0_of)\n",
      "help(Delta_of)\n",
      "help(mk_state_eqc_name)\n",
      "\n",
      "You may use any of these help commands:\n",
      "help(lphi)\n",
      "help(lunit)\n",
      "help(lcat)\n",
      "help(lexp)\n",
      "help(lunion)\n",
      "help(lstar)\n",
      "help(srev)\n",
      "help(lrev)\n",
      "help(shomo)\n",
      "help(lhomo)\n",
      "help(powset)\n",
      "help(lint)\n",
      "help(lsymdiff)\n",
      "help(lminus)\n",
      "help(lissubset)\n",
      "help(lissuperset)\n",
      "help(lcomplem)\n",
      "help(product)\n",
      "help(nthnumeric)\n",
      "\n"
     ]
    }
   ],
   "source": [
    "import sys\n",
    "sys.path[0:0] = ['../..','../../3rdparty','../../..','../../../3rdparty','../../../..','../../../../3rdparty']\n",
    "from jove.DotBashers import *\n",
    "from jove.Def_md2mc  import *\n",
    "from jove.Def_DFA    import *\n",
    "from jove.LangDef    import *  # for testing DFA actions\n",
    "\n"
   ]
  },
  {
   "cell_type": "markdown",
   "metadata": {
    "colab_type": "text",
    "id": "-gVerXSIhwFk",
    "run_control": {
     "frozen": false,
     "read_only": false
    }
   },
   "source": [
    "# Asg-2's helpful functions begin here"
   ]
  },
  {
   "cell_type": "code",
   "execution_count": 3,
   "metadata": {
    "colab": {},
    "colab_type": "code",
    "id": "uXIPyPpdhwFq",
    "run_control": {
     "frozen": false,
     "read_only": false
    }
   },
   "outputs": [
    {
     "name": "stdout",
     "output_type": "stream",
     "text": [
      "Help on function nthnumeric in module jove.LangDef:\n",
      "\n",
      "nthnumeric(N, Sigma={'a', 'b'})\n",
      "    Assume Sigma is a 2-sized list/set of chars (default {'a','b'}). \n",
      "    Produce the Nth string in numeric order, where N >= 0.\n",
      "    Idea : Given N, get b = floor(log_2(N+1)) - need that \n",
      "    many places; what to fill in the places is the binary \n",
      "    code for N - (2^b - 1) with 0 as Sigma[0] and 1 as Sigma[1].\n",
      "\n"
     ]
    }
   ],
   "source": [
    "help(nthnumeric)"
   ]
  },
  {
   "cell_type": "markdown",
   "metadata": {
    "colab_type": "text",
    "id": "Qve1eGQ6ilq_"
   },
   "source": [
    "# Here is how to write a test"
   ]
  },
  {
   "cell_type": "code",
   "execution_count": null,
   "metadata": {
    "colab": {},
    "colab_type": "code",
    "id": "vvWz0zA6iV-G"
   },
   "outputs": [],
   "source": [
    "# tests\n",
    "tests = [ nthnumeric(i, Sigma={'0','1'}) for i in range(17)]\n",
    "# testdfa\n",
    "testdfa = md2mc('''DFA \n",
    "I : 0 -> F\n",
    "F : 0 -> I\n",
    "I : 1 -> I\n",
    "F : 1 -> F''')\n",
    "\n",
    "dotObj_dfa(testdfa)"
   ]
  },
  {
   "cell_type": "code",
   "execution_count": null,
   "metadata": {
    "colab": {},
    "colab_type": "code",
    "id": "F2wM6Thrjvnm"
   },
   "outputs": [],
   "source": [
    "for s in tests:\n",
    "    if accepts_dfa(testdfa, s):\n",
    "        print(\"testdfa accepts \", s)\n",
    "    else:\n",
    "        print(\"testdfa does not accept \", s)"
   ]
  },
  {
   "cell_type": "code",
   "execution_count": null,
   "metadata": {
    "colab": {},
    "colab_type": "code",
    "id": "YaTqDCCtj9pE"
   },
   "outputs": [],
   "source": []
  },
  {
   "cell_type": "code",
   "execution_count": null,
   "metadata": {
    "colab": {},
    "colab_type": "code",
    "id": "QdM3lnIOjB2l"
   },
   "outputs": [],
   "source": [
    "# Let's create a simple DFA to illustrate\n",
    "from jove.AnimateDFA import *\n",
    "AnimateDFA(testdfa, FuseEdges=True)\n",
    "display(HTML('<link rel=\"stylesheet\" href=\"//stackpath.bootstrapcdn.com/font-awesome/4.7.0/css/font-awesome.min.css\"/>'))"
   ]
  },
  {
   "cell_type": "code",
   "execution_count": null,
   "metadata": {
    "colab": {},
    "colab_type": "code",
    "id": "Bc_LVw92kNXT"
   },
   "outputs": [],
   "source": [
    "Odd0OREven1 = md2mc('''DFA\n",
    "IFEE : 0 -> FOE\n",
    "IFEE : 1 -> SEO\n",
    "FOE  : 0 -> IFEE\n",
    "FOE  : 1 -> FOO\n",
    "FOO  : 0 -> SEO\n",
    "FOO  : 1 -> FOE\n",
    "SEO  : 0 -> FOO\n",
    "SEO  : 1 -> IFEE\n",
    "''')"
   ]
  },
  {
   "cell_type": "code",
   "execution_count": null,
   "metadata": {
    "colab": {},
    "colab_type": "code",
    "id": "pHWNbK1Zi2Jx"
   },
   "outputs": [],
   "source": [
    "dotObj_dfa(Odd0OREven1)"
   ]
  },
  {
   "cell_type": "code",
   "execution_count": null,
   "metadata": {
    "colab": {},
    "colab_type": "code",
    "id": "-9HNsD1_idjx"
   },
   "outputs": [],
   "source": [
    "Odd0OREven1"
   ]
  },
  {
   "cell_type": "code",
   "execution_count": null,
   "metadata": {},
   "outputs": [],
   "source": []
  },
  {
   "cell_type": "code",
   "execution_count": null,
   "metadata": {},
   "outputs": [],
   "source": []
  }
 ],
 "metadata": {
  "colab": {
   "name": "Copy of Asg-2.ipynb",
   "provenance": [
    {
     "file_id": "https://github.com/ganeshutah/Jove/blob/colab/ClassMaterial/2020/Assignments/Asg-2/Asg-2.ipynb",
     "timestamp": 1578782914814
    }
   ]
  },
  "kernelspec": {
   "display_name": "Python 3",
   "language": "python",
   "name": "python3"
  },
  "language_info": {
   "codemirror_mode": {
    "name": "ipython",
    "version": 3
   },
   "file_extension": ".py",
   "mimetype": "text/x-python",
   "name": "python",
   "nbconvert_exporter": "python",
   "pygments_lexer": "ipython3",
   "version": "3.7.3"
  },
  "toc": {
   "colors": {
    "hover_highlight": "#DAA520",
    "running_highlight": "#FF0000",
    "selected_highlight": "#FFD700"
   },
   "moveMenuLeft": true,
   "nav_menu": {
    "height": "318px",
    "width": "252px"
   },
   "navigate_menu": true,
   "number_sections": true,
   "sideBar": true,
   "threshold": 4,
   "toc_cell": false,
   "toc_section_display": "block",
   "toc_window_display": false,
   "widenNotebook": false
  }
 },
 "nbformat": 4,
 "nbformat_minor": 1
}
