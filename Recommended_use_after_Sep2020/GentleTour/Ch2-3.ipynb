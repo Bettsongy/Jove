{
 "cells": [
  {
   "cell_type": "markdown",
   "metadata": {},
   "source": [
    "# Overview of Chapters 2 and 3\n",
    "\n",
    "This gives you a gentle overview of the whole of Jove. We keep essential highlights and often use simple examples."
   ]
  },
  {
   "cell_type": "code",
   "execution_count": null,
   "metadata": {},
   "outputs": [],
   "source": [
    "# https://youtu.be/JAzO6KsiGxc\n",
    "from IPython.display import YouTubeVideo\n",
    "YouTubeVideo('JAzO6KsiGxc')"
   ]
  },
  {
   "cell_type": "code",
   "execution_count": 25,
   "metadata": {},
   "outputs": [
    {
     "data": {
      "text/plain": [
       "\"\\n! if [ ! -d Jove ]; then git clone https://github.com/ganeshutah/Jove Jove; fi\\nimport sys\\nsys.path.append('./Jove')\\nsys.path.append('./Jove/jove')\\n\\n\\nfrom jove.LangDef   import * \\n\\n\""
      ]
     },
     "execution_count": 25,
     "metadata": {},
     "output_type": "execute_result"
    }
   ],
   "source": [
    "import sys\n",
    "\n",
    "#----TURN THESE ON IF RUNNING ON JOVE ON OWN LAPTOP BY REMOVING THE ''' ... '''\n",
    "\n",
    "\n",
    "sys.path[0:0] = ['../../../..',  '../../../..',\n",
    "                 '../../..', \n",
    "                 '../..']\n",
    "\n",
    "from jove.LangDef   import * \n",
    "\n",
    "\n",
    "#----TURN THESE ON IF RUNNING ON JOVE ON COLAB BY REMOVING THE ''' ... '''\n",
    "\n",
    "'''\n",
    "! if [ ! -d Jove ]; then git clone https://github.com/ganeshutah/Jove Jove; fi\n",
    "import sys\n",
    "sys.path.append('./Jove')\n",
    "sys.path.append('./Jove/jove')\n",
    "\n",
    "\n",
    "from jove.LangDef   import * \n",
    "\n",
    "'''"
   ]
  },
  {
   "cell_type": "markdown",
   "metadata": {},
   "source": [
    "### Let us import Language Definitions"
   ]
  },
  {
   "cell_type": "code",
   "execution_count": 26,
   "metadata": {},
   "outputs": [],
   "source": [
    "from jove.LangDef import *"
   ]
  },
  {
   "cell_type": "markdown",
   "metadata": {},
   "source": [
    "### Define two test languages"
   ]
  },
  {
   "cell_type": "code",
   "execution_count": 27,
   "metadata": {},
   "outputs": [],
   "source": [
    "L1 = {'','a','b'}\n",
    "L2 = {'','b','c'}"
   ]
  },
  {
   "cell_type": "markdown",
   "metadata": {},
   "source": [
    "### Now perform the symmetric-difference operation"
   ]
  },
  {
   "cell_type": "code",
   "execution_count": 28,
   "metadata": {},
   "outputs": [
    {
     "name": "stdout",
     "output_type": "stream",
     "text": [
      "Help on function lsymdiff in module jove.LangDef:\n",
      "\n",
      "lsymdiff(L1, L2)\n",
      "    In : L1 (language : set of strings)\n",
      "         L2 (language : set of strings)\n",
      "    Out: (L1 \\ L2) union (L2 \\ L1) (sets of strings)\n",
      "    Example:\n",
      "    lsymdiff({'ab', 'bc'}, {'11', 'ab', '22'}) -> {'11', '22', 'bc'}\n",
      "\n"
     ]
    }
   ],
   "source": [
    "help(lsymdiff)"
   ]
  },
  {
   "cell_type": "code",
   "execution_count": 29,
   "metadata": {},
   "outputs": [
    {
     "data": {
      "text/plain": [
       "{'a', 'c'}"
      ]
     },
     "execution_count": 29,
     "metadata": {},
     "output_type": "execute_result"
    }
   ],
   "source": [
    "lsymdiff(L1,L2)"
   ]
  },
  {
   "cell_type": "markdown",
   "metadata": {},
   "source": [
    "### Concatenate and see the difference in the # of strings wrt cartesian product"
   ]
  },
  {
   "cell_type": "code",
   "execution_count": 30,
   "metadata": {},
   "outputs": [
    {
     "name": "stdout",
     "output_type": "stream",
     "text": [
      "Help on function lcat in module jove.LangDef:\n",
      "\n",
      "lcat(L1, L2)\n",
      "    In : L1 (language : a set),\n",
      "         L2 (language : a set).\n",
      "    Out: L1 concat L2 (language : a set).\n",
      "    Example:\n",
      "    L1 = {'ab', 'bc'} \n",
      "    L2 = {'11', 'ab', '22'} \n",
      "    lcat(L1,L2) -> {'abab', 'bc22', 'ab11', 'ab22', 'bcab', 'bc11'}\n",
      "\n"
     ]
    }
   ],
   "source": [
    "help(lcat)"
   ]
  },
  {
   "cell_type": "code",
   "execution_count": 31,
   "metadata": {},
   "outputs": [
    {
     "data": {
      "text/plain": [
       "{'', 'a', 'ab', 'ac', 'b', 'bb', 'bc', 'c'}"
      ]
     },
     "execution_count": 31,
     "metadata": {},
     "output_type": "execute_result"
    }
   ],
   "source": [
    "lcat(L1,L2)"
   ]
  },
  {
   "cell_type": "markdown",
   "metadata": {},
   "source": [
    "### Cartesian product would yield more elements"
   ]
  },
  {
   "cell_type": "code",
   "execution_count": 32,
   "metadata": {},
   "outputs": [
    {
     "name": "stdout",
     "output_type": "stream",
     "text": [
      "Help on function product in module jove.LangDef:\n",
      "\n",
      "product(S1, S2)\n",
      "    In : S1 (set)\n",
      "         S2 (set)\n",
      "    Out: Cartesian product of S1 and S2 (set of pairs)\n",
      "\n"
     ]
    }
   ],
   "source": [
    "help(product)"
   ]
  },
  {
   "cell_type": "code",
   "execution_count": 33,
   "metadata": {},
   "outputs": [
    {
     "data": {
      "text/plain": [
       "{('', ''),\n",
       " ('', 'b'),\n",
       " ('', 'c'),\n",
       " ('a', ''),\n",
       " ('a', 'b'),\n",
       " ('a', 'c'),\n",
       " ('b', ''),\n",
       " ('b', 'b'),\n",
       " ('b', 'c')}"
      ]
     },
     "execution_count": 33,
     "metadata": {},
     "output_type": "execute_result"
    }
   ],
   "source": [
    "product(L1,L2)"
   ]
  },
  {
   "cell_type": "markdown",
   "metadata": {},
   "source": [
    "### Let's perform exponentiation"
   ]
  },
  {
   "cell_type": "code",
   "execution_count": 34,
   "metadata": {},
   "outputs": [
    {
     "name": "stdout",
     "output_type": "stream",
     "text": [
      "Help on function lexp in module jove.LangDef:\n",
      "\n",
      "lexp(L, n)\n",
      "    In : L (language : a set),\n",
      "         n (exponent : a nat).\n",
      "    Out: L^n (language : a set).\n",
      "    Example:\n",
      "    L = {'ab', 'bc'}\n",
      "    n = 2\n",
      "    lexp(A,2) -> {'abab', 'bcab', 'bcbc', 'abbc'}\n",
      "\n"
     ]
    }
   ],
   "source": [
    "help(lexp)"
   ]
  },
  {
   "cell_type": "code",
   "execution_count": 35,
   "metadata": {},
   "outputs": [
    {
     "data": {
      "text/plain": [
       "{'',\n",
       " 'a',\n",
       " 'aa',\n",
       " 'aaa',\n",
       " 'aab',\n",
       " 'ab',\n",
       " 'aba',\n",
       " 'abb',\n",
       " 'b',\n",
       " 'ba',\n",
       " 'baa',\n",
       " 'bab',\n",
       " 'bb',\n",
       " 'bba',\n",
       " 'bbb'}"
      ]
     },
     "execution_count": 35,
     "metadata": {},
     "output_type": "execute_result"
    }
   ],
   "source": [
    "lexp(L1,3)"
   ]
  },
  {
   "cell_type": "markdown",
   "metadata": {},
   "source": [
    "### Star is union of all finite exponentiations; we truncate star in Jove to finite extends"
   ]
  },
  {
   "cell_type": "code",
   "execution_count": 36,
   "metadata": {},
   "outputs": [
    {
     "name": "stdout",
     "output_type": "stream",
     "text": [
      "Help on function lstar in module jove.LangDef:\n",
      "\n",
      "lstar(L, n)\n",
      "    In : L (language : a set),\n",
      "            n (bound for lstar : a nat). \n",
      "       Out: L*_n (language : a set)\n",
      "    Example:\n",
      "    L = {'ab','bc'}\n",
      "    n = 2\n",
      "    lstar(L,2) -> {'abab', 'bcbc', 'ab', 'abbc', '', 'bc', 'bcab'}\n",
      "\n"
     ]
    }
   ],
   "source": [
    "help(lstar)"
   ]
  },
  {
   "cell_type": "code",
   "execution_count": 37,
   "metadata": {},
   "outputs": [
    {
     "data": {
      "text/plain": [
       "{'', 'b', 'bb', 'bc', 'c', 'cb', 'cc'}"
      ]
     },
     "execution_count": 37,
     "metadata": {},
     "output_type": "execute_result"
    }
   ],
   "source": [
    "lstar(L2,2)"
   ]
  },
  {
   "cell_type": "code",
   "execution_count": 38,
   "metadata": {},
   "outputs": [
    {
     "data": {
      "text/plain": [
       "{'',\n",
       " 'a',\n",
       " 'aa',\n",
       " 'aaa',\n",
       " 'aab',\n",
       " 'ab',\n",
       " 'aba',\n",
       " 'abb',\n",
       " 'b',\n",
       " 'ba',\n",
       " 'baa',\n",
       " 'bab',\n",
       " 'bb',\n",
       " 'bba',\n",
       " 'bbb'}"
      ]
     },
     "execution_count": 38,
     "metadata": {},
     "output_type": "execute_result"
    }
   ],
   "source": [
    "lstar(L1,3)"
   ]
  },
  {
   "cell_type": "markdown",
   "metadata": {},
   "source": [
    "### We can generate powersets"
   ]
  },
  {
   "cell_type": "code",
   "execution_count": 39,
   "metadata": {},
   "outputs": [
    {
     "name": "stdout",
     "output_type": "stream",
     "text": [
      "Help on function powset in module jove.LangDef:\n",
      "\n",
      "powset(S)\n",
      "    In : S (set)\n",
      "    Out: List of lists representing powerset.\n",
      "         Since sets/lists are unhashable, we convert the set \n",
      "         to a list,perform the powerset operations, leaving \n",
      "         the result as a list (can't convert back to a set).\n",
      "    Example:\n",
      "    S = {'ab', 'bc'}\n",
      "    powset(S) -> [['ab', 'bc'], ['bc'], ['ab'], []]\n",
      "\n"
     ]
    }
   ],
   "source": [
    "help(powset)"
   ]
  },
  {
   "cell_type": "code",
   "execution_count": 40,
   "metadata": {},
   "outputs": [
    {
     "data": {
      "text/plain": [
       "[[], ['b'], ['c'], ['c', 'b'], [''], ['', 'b'], ['', 'c'], ['', 'c', 'b']]"
      ]
     },
     "execution_count": 40,
     "metadata": {},
     "output_type": "execute_result"
    }
   ],
   "source": [
    "powset(L2)"
   ]
  },
  {
   "cell_type": "markdown",
   "metadata": {},
   "source": [
    "### We can generate sets according to numeric order"
   ]
  },
  {
   "cell_type": "code",
   "execution_count": 41,
   "metadata": {},
   "outputs": [
    {
     "name": "stdout",
     "output_type": "stream",
     "text": [
      "Help on function nthnumeric in module jove.LangDef:\n",
      "\n",
      "nthnumeric(N, Sigma=['a', 'b'])\n",
      "    Assume Sigma is a 2-sized list of chars (default ['a','b']). \n",
      "    Produce the Nth string in numeric order, where N >= 0.\n",
      "    Idea : Given N, get b = floor(log_2(N+1)) - need that \n",
      "    many places; what to fill in the places is the binary \n",
      "    code for N - (2^b - 1) with 0 as Sigma[0] and 1 as Sigma[1].\n",
      "\n"
     ]
    }
   ],
   "source": [
    "help(nthnumeric)"
   ]
  },
  {
   "cell_type": "code",
   "execution_count": 42,
   "metadata": {},
   "outputs": [
    {
     "ename": "NameError",
     "evalue": "name 'S' is not defined",
     "output_type": "error",
     "traceback": [
      "\u001b[0;31m---------------------------------------------------------------------------\u001b[0m",
      "\u001b[0;31mNameError\u001b[0m                                 Traceback (most recent call last)",
      "\u001b[0;32m<ipython-input-42-5b3eea65c19f>\u001b[0m in \u001b[0;36m<module>\u001b[0;34m\u001b[0m\n\u001b[0;32m----> 1\u001b[0;31m \u001b[0mnthnumeric\u001b[0m\u001b[0;34m(\u001b[0m\u001b[0;36m8\u001b[0m\u001b[0;34m,\u001b[0m \u001b[0;34m[\u001b[0m\u001b[0;34m'0'\u001b[0m\u001b[0;34m,\u001b[0m\u001b[0;34m'1'\u001b[0m\u001b[0;34m]\u001b[0m\u001b[0;34m)\u001b[0m\u001b[0;34m\u001b[0m\u001b[0;34m\u001b[0m\u001b[0m\n\u001b[0m",
      "\u001b[0;32m~/repos/Jove/jove/LangDef.py\u001b[0m in \u001b[0;36mnthnumeric\u001b[0;34m(N, Sigma)\u001b[0m\n\u001b[1;32m    200\u001b[0m                                            \u001b[0;31m# in the leading string\u001b[0m\u001b[0;34m\u001b[0m\u001b[0;34m\u001b[0m\u001b[0;34m\u001b[0m\u001b[0m\n\u001b[1;32m    201\u001b[0m         \u001b[0mlen_to_makeup\u001b[0m \u001b[0;34m=\u001b[0m \u001b[0mwidth\u001b[0m \u001b[0;34m-\u001b[0m \u001b[0mlen\u001b[0m\u001b[0;34m(\u001b[0m\u001b[0mrelevant_binstr\u001b[0m\u001b[0;34m)\u001b[0m\u001b[0;34m\u001b[0m\u001b[0;34m\u001b[0m\u001b[0m\n\u001b[0;32m--> 202\u001b[0;31m         return (S[0]*len_to_makeup + \n\u001b[0m\u001b[1;32m    203\u001b[0m                 shomo(relevant_binstr,\n\u001b[1;32m    204\u001b[0m                       lambda x: S[1] if x=='1' else S[0]))\n",
      "\u001b[0;31mNameError\u001b[0m: name 'S' is not defined"
     ]
    }
   ],
   "source": [
    "nthnumeric(8, ['0','1'])"
   ]
  },
  {
   "cell_type": "markdown",
   "metadata": {},
   "source": [
    "### Now, we can generate the first 27 strings according to numeric order from alphabet {0,1}"
   ]
  },
  {
   "cell_type": "code",
   "execution_count": null,
   "metadata": {},
   "outputs": [],
   "source": [
    "[nthnumeric(i, ['0','1']) for i in range(28)]"
   ]
  },
  {
   "cell_type": "markdown",
   "metadata": {},
   "source": [
    "# Now, read Chapters 2 and 3!"
   ]
  }
 ],
 "metadata": {
  "kernelspec": {
   "display_name": "Python 3",
   "language": "python",
   "name": "python3"
  },
  "language_info": {
   "codemirror_mode": {
    "name": "ipython",
    "version": 3
   },
   "file_extension": ".py",
   "mimetype": "text/x-python",
   "name": "python",
   "nbconvert_exporter": "python",
   "pygments_lexer": "ipython3",
   "version": "3.7.3"
  }
 },
 "nbformat": 4,
 "nbformat_minor": 2
}
