{
 "cells": [
  {
   "cell_type": "markdown",
   "metadata": {},
   "source": [
    "# Overview of Chapters 2 and 3\n",
    "\n",
    "This gives you a gentle overview of the whole of Jove. We keep essential highlights and often use simple examples."
   ]
  },
  {
   "cell_type": "markdown",
   "metadata": {},
   "source": [
    "### Let us import Language Definitions"
   ]
  },
  {
   "cell_type": "code",
   "execution_count": 1,
   "metadata": {},
   "outputs": [
    {
     "name": "stdout",
     "output_type": "stream",
     "text": [
      "You may use any of these help commands:\n",
      "help(lphi)\n",
      "help(lunit)\n",
      "help(lcat)\n",
      "help(lexp)\n",
      "help(lunion)\n",
      "help(lstar)\n",
      "help(srev)\n",
      "help(lrev)\n",
      "help(shomo)\n",
      "help(lhomo)\n",
      "help(powset)\n",
      "help(lint)\n",
      "help(lsymdiff)\n",
      "help(lminus)\n",
      "help(lissubset)\n",
      "help(lissuperset)\n",
      "help(lcomplem)\n",
      "help(product)\n",
      "help(nthnumeric)\n",
      "\n"
     ]
    }
   ],
   "source": [
    "from jove.LangDef import *"
   ]
  },
  {
   "cell_type": "markdown",
   "metadata": {},
   "source": [
    "### Define two test languages"
   ]
  },
  {
   "cell_type": "code",
   "execution_count": 2,
   "metadata": {},
   "outputs": [],
   "source": [
    "L1 = {'','a','b'}\n",
    "L2 = {'','b','c'}"
   ]
  },
  {
   "cell_type": "markdown",
   "metadata": {},
   "source": [
    "### Now perform the symmetric-difference operation"
   ]
  },
  {
   "cell_type": "code",
   "execution_count": 3,
   "metadata": {},
   "outputs": [
    {
     "name": "stdout",
     "output_type": "stream",
     "text": [
      "Help on function lsymdiff in module jove.LangDef:\n",
      "\n",
      "lsymdiff(L1, L2)\n",
      "    In : L1 (language : set of strings)\n",
      "         L2 (language : set of strings)\n",
      "    Out: (L1 \\ L2) union (L2 \\ L1) (sets of strings)\n",
      "    Example:\n",
      "    lsymdiff({'ab', 'bc'}, {'11', 'ab', '22'}) -> {'11', '22', 'bc'}\n",
      "\n"
     ]
    }
   ],
   "source": [
    "help(lsymdiff)"
   ]
  },
  {
   "cell_type": "code",
   "execution_count": 4,
   "metadata": {},
   "outputs": [
    {
     "data": {
      "text/plain": [
       "{'a', 'c'}"
      ]
     },
     "execution_count": 4,
     "metadata": {},
     "output_type": "execute_result"
    }
   ],
   "source": [
    "lsymdiff(L1,L2)"
   ]
  },
  {
   "cell_type": "markdown",
   "metadata": {},
   "source": [
    "### Concatenate and see the difference in the # of strings wrt cartesian product"
   ]
  },
  {
   "cell_type": "code",
   "execution_count": 5,
   "metadata": {},
   "outputs": [
    {
     "name": "stdout",
     "output_type": "stream",
     "text": [
      "Help on function lcat in module jove.LangDef:\n",
      "\n",
      "lcat(L1, L2)\n",
      "    In : L1 (language : a set),\n",
      "         L2 (language : a set).\n",
      "    Out: L1 concat L2 (language : a set).\n",
      "    Example:\n",
      "    L1 = {'ab', 'bc'} \n",
      "    L2 = {'11', 'ab', '22'} \n",
      "    lcat(L1,L2) -> {'abab', 'bc22', 'ab11', 'ab22', 'bcab', 'bc11'}\n",
      "\n"
     ]
    }
   ],
   "source": [
    "help(lcat)"
   ]
  },
  {
   "cell_type": "code",
   "execution_count": 6,
   "metadata": {},
   "outputs": [
    {
     "data": {
      "text/plain": [
       "{'', 'a', 'ab', 'ac', 'b', 'bb', 'bc', 'c'}"
      ]
     },
     "execution_count": 6,
     "metadata": {},
     "output_type": "execute_result"
    }
   ],
   "source": [
    "lcat(L1,L2)"
   ]
  },
  {
   "cell_type": "markdown",
   "metadata": {},
   "source": [
    "### Cartesian product would yield more elements"
   ]
  },
  {
   "cell_type": "code",
   "execution_count": 7,
   "metadata": {},
   "outputs": [
    {
     "name": "stdout",
     "output_type": "stream",
     "text": [
      "Help on function product in module jove.LangDef:\n",
      "\n",
      "product(S1, S2)\n",
      "    In : S1 (set)\n",
      "         S2 (set)\n",
      "    Out: Cartesian product of S1 and S2 (set of pairs)\n",
      "\n"
     ]
    }
   ],
   "source": [
    "help(product)"
   ]
  },
  {
   "cell_type": "code",
   "execution_count": 8,
   "metadata": {},
   "outputs": [
    {
     "data": {
      "text/plain": [
       "{('', ''),\n",
       " ('', 'b'),\n",
       " ('', 'c'),\n",
       " ('a', ''),\n",
       " ('a', 'b'),\n",
       " ('a', 'c'),\n",
       " ('b', ''),\n",
       " ('b', 'b'),\n",
       " ('b', 'c')}"
      ]
     },
     "execution_count": 8,
     "metadata": {},
     "output_type": "execute_result"
    }
   ],
   "source": [
    "product(L1,L2)"
   ]
  },
  {
   "cell_type": "markdown",
   "metadata": {},
   "source": [
    "### Let's perform exponentiation"
   ]
  },
  {
   "cell_type": "code",
   "execution_count": 9,
   "metadata": {},
   "outputs": [
    {
     "name": "stdout",
     "output_type": "stream",
     "text": [
      "Help on function lexp in module jove.LangDef:\n",
      "\n",
      "lexp(L, n)\n",
      "    In : L (language : a set),\n",
      "         n (exponent : a nat).\n",
      "    Out: L^n (language : a set).\n",
      "    Example:\n",
      "    L = {'ab', 'bc'}\n",
      "    n = 2\n",
      "    lexp(A,2) -> {'abab', 'bcab', 'bcbc', 'abbc'}\n",
      "\n"
     ]
    }
   ],
   "source": [
    "help(lexp)"
   ]
  },
  {
   "cell_type": "code",
   "execution_count": 10,
   "metadata": {},
   "outputs": [
    {
     "data": {
      "text/plain": [
       "{'',\n",
       " 'a',\n",
       " 'aa',\n",
       " 'aaa',\n",
       " 'aab',\n",
       " 'ab',\n",
       " 'aba',\n",
       " 'abb',\n",
       " 'b',\n",
       " 'ba',\n",
       " 'baa',\n",
       " 'bab',\n",
       " 'bb',\n",
       " 'bba',\n",
       " 'bbb'}"
      ]
     },
     "execution_count": 10,
     "metadata": {},
     "output_type": "execute_result"
    }
   ],
   "source": [
    "lexp(L1,3)"
   ]
  },
  {
   "cell_type": "markdown",
   "metadata": {},
   "source": [
    "### Star is union of all finite exponentiations; we truncate star in Jove to finite extends"
   ]
  },
  {
   "cell_type": "code",
   "execution_count": 11,
   "metadata": {},
   "outputs": [
    {
     "name": "stdout",
     "output_type": "stream",
     "text": [
      "Help on function lstar in module jove.LangDef:\n",
      "\n",
      "lstar(L, n)\n",
      "    In : L (language : a set),\n",
      "            n (bound for lstar : a nat). \n",
      "       Out: L*_n (language : a set)\n",
      "    Example:\n",
      "    L = {'ab','bc'}\n",
      "    n = 2\n",
      "    lstar(L,2) -> {'abab', 'bcbc', 'ab', 'abbc', '', 'bc', 'bcab'}\n",
      "\n"
     ]
    }
   ],
   "source": [
    "help(lstar)"
   ]
  },
  {
   "cell_type": "code",
   "execution_count": 12,
   "metadata": {},
   "outputs": [
    {
     "data": {
      "text/plain": [
       "{'', 'b', 'bb', 'bc', 'c', 'cb', 'cc'}"
      ]
     },
     "execution_count": 12,
     "metadata": {},
     "output_type": "execute_result"
    }
   ],
   "source": [
    "lstar(L2,2)"
   ]
  },
  {
   "cell_type": "code",
   "execution_count": 13,
   "metadata": {},
   "outputs": [
    {
     "data": {
      "text/plain": [
       "{'',\n",
       " 'a',\n",
       " 'aa',\n",
       " 'aaa',\n",
       " 'aab',\n",
       " 'ab',\n",
       " 'aba',\n",
       " 'abb',\n",
       " 'b',\n",
       " 'ba',\n",
       " 'baa',\n",
       " 'bab',\n",
       " 'bb',\n",
       " 'bba',\n",
       " 'bbb'}"
      ]
     },
     "execution_count": 13,
     "metadata": {},
     "output_type": "execute_result"
    }
   ],
   "source": [
    "lstar(L1,3)"
   ]
  },
  {
   "cell_type": "markdown",
   "metadata": {},
   "source": [
    "### We can generate powersets"
   ]
  },
  {
   "cell_type": "code",
   "execution_count": 14,
   "metadata": {},
   "outputs": [
    {
     "name": "stdout",
     "output_type": "stream",
     "text": [
      "Help on function powset in module jove.LangDef:\n",
      "\n",
      "powset(S)\n",
      "    In : S (set)\n",
      "    Out: List of lists representing powerset.\n",
      "         Since sets/lists are unhashable, we convert the set \n",
      "         to a list,perform the powerset operations, leaving \n",
      "         the result as a list (can't convert back to a set).\n",
      "    Example:\n",
      "    S = {'ab', 'bc'}\n",
      "    powset(S) -> [['ab', 'bc'], ['bc'], ['ab'], []]\n",
      "\n"
     ]
    }
   ],
   "source": [
    "help(powset)"
   ]
  },
  {
   "cell_type": "code",
   "execution_count": 15,
   "metadata": {},
   "outputs": [
    {
     "data": {
      "text/plain": [
       "[[], ['c'], ['b'], ['b', 'c'], [''], ['', 'c'], ['', 'b'], ['', 'b', 'c']]"
      ]
     },
     "execution_count": 15,
     "metadata": {},
     "output_type": "execute_result"
    }
   ],
   "source": [
    "powset(L2)"
   ]
  },
  {
   "cell_type": "markdown",
   "metadata": {},
   "source": [
    "### We can generate sets according to numeric order"
   ]
  },
  {
   "cell_type": "code",
   "execution_count": 16,
   "metadata": {},
   "outputs": [
    {
     "name": "stdout",
     "output_type": "stream",
     "text": [
      "Help on function nthnumeric in module jove.LangDef:\n",
      "\n",
      "nthnumeric(N, Sigma={'b', 'a'})\n",
      "    Assume Sigma is a 2-sized list/set of chars (default {'a','b'}). \n",
      "    Produce the Nth string in numeric order, where N >= 0.\n",
      "    Idea : Given N, get b = floor(log_2(N+1)) - need that \n",
      "    many places; what to fill in the places is the binary \n",
      "    code for N - (2^b - 1) with 0 as Sigma[0] and 1 as Sigma[1].\n",
      "\n"
     ]
    }
   ],
   "source": [
    "help(nthnumeric)"
   ]
  },
  {
   "cell_type": "code",
   "execution_count": 17,
   "metadata": {},
   "outputs": [
    {
     "data": {
      "text/plain": [
       "'110'"
      ]
     },
     "execution_count": 17,
     "metadata": {},
     "output_type": "execute_result"
    }
   ],
   "source": [
    "nthnumeric(8, {'0','1'})"
   ]
  },
  {
   "cell_type": "markdown",
   "metadata": {},
   "source": [
    "### Now, we can generate the first 27 strings according to numeric order from alphabet {0,1}"
   ]
  },
  {
   "cell_type": "code",
   "execution_count": 18,
   "metadata": {},
   "outputs": [
    {
     "data": {
      "text/plain": [
       "['',\n",
       " '1',\n",
       " '0',\n",
       " '11',\n",
       " '10',\n",
       " '01',\n",
       " '00',\n",
       " '111',\n",
       " '110',\n",
       " '101',\n",
       " '100',\n",
       " '011',\n",
       " '010',\n",
       " '001',\n",
       " '000',\n",
       " '1111',\n",
       " '1110',\n",
       " '1101',\n",
       " '1100',\n",
       " '1011',\n",
       " '1010',\n",
       " '1001',\n",
       " '1000',\n",
       " '0111',\n",
       " '0110',\n",
       " '0101',\n",
       " '0100',\n",
       " '0011']"
      ]
     },
     "execution_count": 18,
     "metadata": {},
     "output_type": "execute_result"
    }
   ],
   "source": [
    "[nthnumeric(i, {'0','1'}) for i in range(28)]"
   ]
  },
  {
   "cell_type": "markdown",
   "metadata": {},
   "source": [
    "# Now, read Chapters 2 and 3!"
   ]
  }
 ],
 "metadata": {
  "kernelspec": {
   "display_name": "Python 3",
   "language": "python",
   "name": "python3"
  },
  "language_info": {
   "codemirror_mode": {
    "name": "ipython",
    "version": 3
   },
   "file_extension": ".py",
   "mimetype": "text/x-python",
   "name": "python",
   "nbconvert_exporter": "python",
   "pygments_lexer": "ipython3",
   "version": "3.7.3"
  }
 },
 "nbformat": 4,
 "nbformat_minor": 2
}
